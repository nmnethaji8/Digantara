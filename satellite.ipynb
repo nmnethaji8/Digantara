{
 "cells": [
  {
   "cell_type": "code",
   "execution_count": 1,
   "metadata": {},
   "outputs": [],
   "source": [
    "from calculating_LLA import *"
   ]
  },
  {
   "cell_type": "markdown",
   "metadata": {},
   "source": [
    "## Time Interval Specifications"
   ]
  },
  {
   "cell_type": "code",
   "execution_count": 2,
   "metadata": {},
   "outputs": [
    {
     "name": "stderr",
     "output_type": "stream",
     "text": [
      "2023-11-07 14:58:13,616\tINFO worker.py:1664 -- Started a local Ray instance. View the dashboard at \u001b[1m\u001b[32mhttp://127.0.0.1:8265 \u001b[39m\u001b[22m\n",
      "\u001b[36m(single_LLA pid=13708)\u001b[0m c:\\Users\\Public\\Digantara\\calculating_LLA.py:36: FutureWarning: This function is deprecated. See: https://pyproj4.github.io/pyproj/stable/gotchas.html#upgrading-to-pyproj-2-from-pyproj-1\n",
      "\u001b[36m(single_LLA pid=13708)\u001b[0m   LLA[j][0], LLA[j][1], LLA[j][2] = pyproj.transform(ecef, lla, r[0], r[1], r[2], radians=False)\n",
      "\u001b[36m(single_LLA pid=29592)\u001b[0m c:\\Users\\Public\\Digantara\\calculating_LLA.py:36: FutureWarning: This function is deprecated. See: https://pyproj4.github.io/pyproj/stable/gotchas.html#upgrading-to-pyproj-2-from-pyproj-1\u001b[32m [repeated 16x across cluster] (Ray deduplicates logs by default. Set RAY_DEDUP_LOGS=0 to disable log deduplication, or see https://docs.ray.io/en/master/ray-observability/ray-logging.html#log-deduplication for more options.)\u001b[0m\n",
      "\u001b[36m(single_LLA pid=29592)\u001b[0m   LLA[j][0], LLA[j][1], LLA[j][2] = pyproj.transform(ecef, lla, r[0], r[1], r[2], radians=False)\u001b[32m [repeated 16x across cluster]\u001b[0m\n",
      "\u001b[36m(single_LLA pid=15044)\u001b[0m c:\\Users\\Public\\Digantara\\calculating_LLA.py:36: FutureWarning: This function is deprecated. See: https://pyproj4.github.io/pyproj/stable/gotchas.html#upgrading-to-pyproj-2-from-pyproj-1\u001b[32m [repeated 13x across cluster]\u001b[0m\n",
      "\u001b[36m(single_LLA pid=15044)\u001b[0m   LLA[j][0], LLA[j][1], LLA[j][2] = pyproj.transform(ecef, lla, r[0], r[1], r[2], radians=False)\u001b[32m [repeated 13x across cluster]\u001b[0m\n"
     ]
    }
   ],
   "source": [
    "time_period = date_time(2019, 12, 9, 12, 0, 0)  #start time jday(2019, 12, 9, 12, 0, 0)\n",
    "days = 5                                        #5 days\n",
    "interval = 1                                    #1 hour\n",
    "time_steps = 5*24*60                            #5*24*60 #Total timesteps\n",
    "\n",
    "satsnames = open('30sats.txt', 'r').readlines()\n",
    "LLA = calculating_LLA(time_steps, satsnames, time_period)"
   ]
  },
  {
   "cell_type": "code",
   "execution_count": 3,
   "metadata": {},
   "outputs": [
    {
     "name": "stderr",
     "output_type": "stream",
     "text": [
      "2023-11-07 14:58:51,555\tINFO worker.py:1664 -- Started a local Ray instance. View the dashboard at \u001b[1m\u001b[32mhttp://127.0.0.1:8265 \u001b[39m\u001b[22m\n"
     ]
    }
   ],
   "source": [
    "num_of_sats = int(len(satsnames)/2)\n",
    "\n",
    "# Example usage:\n",
    "bottom_left = (-60.0, -120.0)   # Replace with actual coordinates\n",
    "top_right = (60.0, 120.0)       # Replace with actual coordinates\n",
    "\n",
    "# Assuming LLA is defined somewhere else in the code\n",
    "satellite_times = find_entry_exit_times(LLA, bottom_left, top_right)"
   ]
  },
  {
   "cell_type": "code",
   "execution_count": 4,
   "metadata": {},
   "outputs": [],
   "source": [
    "saving_entry_exit_times(satellite_times, time_period, bottom_left, top_right)"
   ]
  }
 ],
 "metadata": {
  "kernelspec": {
   "display_name": "Python 3",
   "language": "python",
   "name": "python3"
  },
  "language_info": {
   "codemirror_mode": {
    "name": "ipython",
    "version": 3
   },
   "file_extension": ".py",
   "mimetype": "text/x-python",
   "name": "python",
   "nbconvert_exporter": "python",
   "pygments_lexer": "ipython3",
   "version": "3.11.5"
  }
 },
 "nbformat": 4,
 "nbformat_minor": 2
}
